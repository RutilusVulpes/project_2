{
 "cells": [
  {
   "cell_type": "markdown",
   "metadata": {},
   "source": [
    "# Project 2: Image Stitcher\n",
    "## Assigned: 02.01.2019\n",
    "## Due Date: TBD (probably 02.20.2019)\n",
    "\n",
    "Panoramic photography is ubiquitous, with nearly every digital camera having a mode dedicated to doing it.  Here's an example from the Italian Alps:\n",
    "<img src=\"pano.jpg\">\n",
    "Note the extreme aspect ratio: much larger than the 4:3 or 3:2 that is typical of most cameras; suffice to say, the camera that stook this picture did not have a sensor that was this wide.  So how are these things made?  Stated simply, multiple images are taken, mutually identifiable points are located in each of these images, and the images are warped such that these points are coincident.  The matching stage might look like this:\n",
    "<img src=\"office.jpeg\">\n",
    "\n",
    "For this project, you will code your own image stitcher from scratch.  Despite the conceptual simplicity of this operation, there are a surprising number of challenges that need to be addressed.  A general framework for a stitcher might look like this:"
   ]
  },
  {
   "cell_type": "code",
   "execution_count": 1,
   "metadata": {},
   "outputs": [],
   "source": [
    "import cornermatching_addi as cm\n",
    "import skimage.transform as skt\n",
    "import numpy as np\n",
    "\n",
    "class Stitcher(object):\n",
    "    def __init__(self,image_1,image_2):\n",
    "        self.images = [image_1,image_2]\n",
    "        \n",
    "    def find_keypoints(self):\n",
    "        \n",
    "        # Guass kernel for convolution\n",
    "        g_kernal = cm.gauss_kernal(5,2)\n",
    "        \n",
    "        # Calculate the harris response of each convolution of I1, I2\n",
    "        H1 = cm.harris_response(cm.convolve(self.images[0], g_kernal))\n",
    "        H2 = cm.harris_response(cm.convolve(self.images[1], g_kernal))\n",
    "        \n",
    "        # Extract the keypoints from H1, H2 via non-maximal sup\n",
    "        key_pts_I1 = cm.nonmaxsup(H1)\n",
    "        key_pts_I2 = cm.nonmaxsup(H2)\n",
    "        \n",
    "        # Return the keypoints of I1, I2\n",
    "        return key_pts_I1, key_pts_I2\n",
    "    \n",
    "    def generate_descriptors(self):\n",
    "        \n",
    "        # Get the keypoints to generate descriptors from\n",
    "        key_pts_I1, key_pts_I2 = self.find_keypoints()\n",
    "        \n",
    "        # Get descriptors for I1, I2\n",
    "        des_I1 = cm.descriptorExtractor(self.images[0], key_pts_I1)\n",
    "        des_I2 = cm.descriptorExtractor(self.images[1], key_pts_I2)\n",
    "        \n",
    "        return des_I1, des_I2\n",
    "        \"\"\"\n",
    "        Step 2: After identifying relevant keypoints, we need to come up with a quantitative description of the \n",
    "        neighborhood of that keypoint, so that we can match it to keypoints in other images.\n",
    "        \"\"\"\n",
    "        \n",
    "    def match_keypoints(self):\n",
    "        \n",
    "        des_I1, des_I2 = self.generate_descriptors()\n",
    "        \n",
    "        best_matches = cm.get_best_matches(des_I1, des_I2)\n",
    "        secondbest_matches = cm.get_secondbest_matches(des_I1, des_I2, best_matches)\n",
    "        \n",
    "        \n",
    "        filtered_matches = cm.filter_matches(best_matches, secondbest_matches)\n",
    "        \n",
    "        return filtered_matches, des_I1\n",
    "    \n",
    "        \"\"\"\n",
    "        Step 3: Compare keypoint descriptions between images, identify potential matches, and filter likely\n",
    "        mismatches\n",
    "        \"\"\"\n",
    "        \n",
    "    def find_homography(self):\n",
    "        \n",
    "        # Get the matches between the two images\n",
    "        matches, des_I1 = self.match_keypoints()\n",
    "        \n",
    "        # Now get the coordinates from the matches for RANSAC\n",
    "        match_coords = []\n",
    "        for match in matches: # filtered_matches:\n",
    "    \n",
    "            match_I1_x = des_I1[match[0]][2]\n",
    "\n",
    "            match_I1_y = des_I1[match[0]][1]\n",
    "    \n",
    "            match_I2_x = match[1][2]\n",
    "    \n",
    "            match_I2_y = match[1][1]\n",
    "    \n",
    "            match_coords.append([match_I1_x,match_I1_y,match_I2_x,match_I2_y])\n",
    "        \n",
    "        \n",
    "        x_offset = [0, 0]\n",
    "        for match in match_coords:\n",
    "            if(match[0] > x_offset[0]):\n",
    "                x_offset = match\n",
    "        \n",
    "        # Get the x_offset val from x,y tuple\n",
    "        x_offset = x_offset[0]\n",
    "        \n",
    "   \n",
    "        # params needed for RANSAC\n",
    "        \n",
    "        num_iters = 1000\n",
    "        r = 3\n",
    "        d = 3\n",
    "        n = 4\n",
    "        \n",
    "        H_best, list_of_inliers = cm.RANSAC(num_iters, match_coords, n, r, d)\n",
    "        \n",
    "        return H_best, x_offset\n",
    "\n",
    "        \n",
    "        \"\"\"\n",
    "        Step 4: Find a linear transformation (of various complexities) that maps pixels from the second image to \n",
    "        pixels in the first image\n",
    "        \"\"\"\n",
    "      \n",
    "    def stitch(self):\n",
    "        \n",
    "        H, x_offset = self.find_homography()\n",
    "        \n",
    "        print(H)\n",
    "        \n",
    "        proj_trans = skt.ProjectiveTransform(H)\n",
    "        \n",
    "        h = len(self.images[0])\n",
    "        w = len(self.images[0][0])\n",
    "        new_w = w+(w-x_offset)\n",
    "        \n",
    "        image_2_transformed = skt.warp(self.images[1],proj_trans)\n",
    "        \n",
    "        #Perform blending of images by taking max val of pixel\n",
    "        new_image = (self.images[0] + image_2_transformed) / 2\n",
    "        blended = np.zeros((h,w))\n",
    "        \n",
    "        start = 1\n",
    "        for i in range(start, len(new_image)):\n",
    "            for j in range(start, len(new_image[i])):\n",
    "                blended[i][j] = np.average(new_image[i-1:i+1, j-1:j+1])\n",
    "        \n",
    "\n",
    "        # Return the blended image\n",
    "        return new_image\n",
    "        \n",
    "        \"\"\"\n",
    "        Step 5: Transform second image into local coordinate system of first image, and (perhaps) perform blending\n",
    "        to avoid obvious seams between images.\n",
    "        \"\"\""
   ]
  },
  {
   "cell_type": "markdown",
   "metadata": {},
   "source": [
    "We will populate these functions over the next several weeks, a process that will involve delving into some of the most elementary operations in digital signal processing.  \n",
    "\n",
    "As a test case, apply your stitcher to at least four overlapping images that you've taken.  With a stitcher that works on two images, more images can be added by applying the method recursively."
   ]
  },
  {
   "cell_type": "code",
   "execution_count": 2,
   "metadata": {},
   "outputs": [
    {
     "name": "stdout",
     "output_type": "stream",
     "text": [
      "[[ 7.23118269e-03 -4.01709557e-03  2.30455214e-01]\n",
      " [ 8.83847425e-03 -4.91143350e-03  9.72985663e-01]\n",
      " [ 1.62899154e-05 -1.37154078e-05  4.31574445e-03]]\n"
     ]
    },
    {
     "data": {
      "text/plain": [
       "<Figure size 640x480 with 1 Axes>"
      ]
     },
     "metadata": {},
     "output_type": "display_data"
    }
   ],
   "source": [
    "import matplotlib.pyplot as plt\n",
    "#def stitchImages():\n",
    "'''Returns the stiched images recursively'''\n",
    "\n",
    "images = [plt.imread('im1.jpg').mean(axis=2), plt.imread('im2.jpg').mean(axis=2), plt.imread('im3.jpg').mean(axis=2), plt.imread('im4.jpg').mean(axis=2)]\n",
    "\n",
    "#filtered_matches, best_matches = image_stitcher.match_keypoints()\n",
    "image_stitcher = Stitcher(images[0], images[1])\n",
    "new_image = image_stitcher.stitch()\n",
    "\n"
   ]
  },
  {
   "cell_type": "code",
   "execution_count": 8,
   "metadata": {},
   "outputs": [
    {
     "data": {
      "image/png": "[encoded data removed]",
      "text/plain": [
       "<Figure size 432x288 with 1 Axes>"
      ]
     },
     "metadata": {
      "needs_background": "light"
     },
     "output_type": "display_data"
    },
    {
     "data": {
      "text/plain": [
       "'\\nimport numpy as np\\nh = int(len(images[0]))\\nw = int(len(images[0][0])*2)\\ns = (h,w)\\nprint(s)\\nnew_image = np.zeros(s)\\nnew_image[0:h, 0:int(w/2)] = images[0]\\nnew_image[0:h, int(w/2):] = images[1]\\n\\nplt.imshow(new_image, cmap=\"gray\")\\nfor match in filtered_matches:\\n    x1 = best_matches[match[0]][1]\\n    y1 = best_matches[match[0]][2]\\n    x2 = match[1][1]\\n    y2 = match[1][2]\\n    print(x1,y1,x2,y2)\\n    plt.plot([y1,y2+int(w/2)], [x1,x2], color=\"blue\", marker=\"x\")\\nplt.show()\\n'"
      ]
     },
     "execution_count": 8,
     "metadata": {},
     "output_type": "execute_result"
    }
   ],
   "source": [
    "plt.imshow(new_image, cmap='gray')\n",
    "plt.show()\n",
    "'''\n",
    "import numpy as np\n",
    "h = int(len(images[0]))\n",
    "w = int(len(images[0][0])*2)\n",
    "s = (h,w)\n",
    "print(s)\n",
    "new_image = np.zeros(s)\n",
    "new_image[0:h, 0:int(w/2)] = images[0]\n",
    "new_image[0:h, int(w/2):] = images[1]\n",
    "\n",
    "plt.imshow(new_image, cmap=\"gray\")\n",
    "for match in filtered_matches:\n",
    "    x1 = best_matches[match[0]][1]\n",
    "    y1 = best_matches[match[0]][2]\n",
    "    x2 = match[1][1]\n",
    "    y2 = match[1][2]\n",
    "    print(x1,y1,x2,y2)\n",
    "    plt.plot([y1,y2+int(w/2)], [x1,x2], color=\"blue\", marker=\"x\")\n",
    "plt.show()\n",
    "'''"
   ]
  },
  {
   "cell_type": "code",
   "execution_count": 4,
   "metadata": {},
   "outputs": [
    {
     "data": {
      "text/plain": [
       "'\\nH, list_of_inliers, match_coords = image_stitcher.find_homography()\\nimport skimage.transform as skt\\n# Create a projective transform based on the homography matrix $H$\\nproj_trans = skt.ProjectiveTransform(H)\\n\\n# Warp the image into image 1\\'s coordinate system\\n#plt.imshow(images[0], cmap=\"gray\")\\n#plt.show()\\n'"
      ]
     },
     "execution_count": 4,
     "metadata": {},
     "output_type": "execute_result"
    }
   ],
   "source": [
    "'''\n",
    "H, list_of_inliers, match_coords = image_stitcher.find_homography()\n",
    "import skimage.transform as skt\n",
    "# Create a projective transform based on the homography matrix $H$\n",
    "proj_trans = skt.ProjectiveTransform(H)\n",
    "\n",
    "# Warp the image into image 1's coordinate system\n",
    "#plt.imshow(images[0], cmap=\"gray\")\n",
    "#plt.show()\n",
    "'''"
   ]
  },
  {
   "cell_type": "code",
   "execution_count": 5,
   "metadata": {},
   "outputs": [
    {
     "data": {
      "text/plain": [
       "'\\nimport numpy as np\\n\\nprint(H)\\nprint(list_of_inliers)\\nimage_2_transformed = skt.warp(image_stitcher.images[1],proj_trans)\\nplt.imshow(images[1], cmap=\"gray\")\\nplt.show()\\nplt.imshow(image_2_transformed, cmap=\"gray\")\\nfor inlier in list_of_inliers:\\n    plt.plot(inlier[0], inlier[1], marker=\"x\")\\nplt.show()\\n\\nplt.imshow(images[0], cmap=\"gray\")\\nfor inlier in list_of_inliers:\\n    plt.plot(inlier[0], inlier[1], marker=\"x\")\\nplt.show()\\n'"
      ]
     },
     "execution_count": 5,
     "metadata": {},
     "output_type": "execute_result"
    }
   ],
   "source": [
    "'''\n",
    "import numpy as np\n",
    "\n",
    "print(H)\n",
    "print(list_of_inliers)\n",
    "image_2_transformed = skt.warp(image_stitcher.images[1],proj_trans)\n",
    "plt.imshow(images[1], cmap=\"gray\")\n",
    "plt.show()\n",
    "plt.imshow(image_2_transformed, cmap=\"gray\")\n",
    "for inlier in list_of_inliers:\n",
    "    plt.plot(inlier[0], inlier[1], marker=\"x\")\n",
    "plt.show()\n",
    "\n",
    "plt.imshow(images[0], cmap=\"gray\")\n",
    "for inlier in list_of_inliers:\n",
    "    plt.plot(inlier[0], inlier[1], marker=\"x\")\n",
    "plt.show()\n",
    "'''"
   ]
  },
  {
   "cell_type": "code",
   "execution_count": 6,
   "metadata": {},
   "outputs": [
    {
     "data": {
      "text/plain": [
       "'\\nmatch_I1 = []\\nmatch_I2 = []\\nfor coord in match_coords:\\n    match_I1.append([coord[0], coord[1]])\\n    match_I2.append([coord[2], coord[3]])\\n'"
      ]
     },
     "execution_count": 6,
     "metadata": {},
     "output_type": "execute_result"
    }
   ],
   "source": [
    "'''\n",
    "match_I1 = []\n",
    "match_I2 = []\n",
    "for coord in match_coords:\n",
    "    match_I1.append([coord[0], coord[1]])\n",
    "    match_I2.append([coord[2], coord[3]])\n",
    "'''"
   ]
  },
  {
   "cell_type": "code",
   "execution_count": 7,
   "metadata": {},
   "outputs": [
    {
     "data": {
      "text/plain": [
       "'plt.imshow(images[0], cmap=\"gray\")\\nfor match in match_I1:\\n    plt.plot(match[0], match[1], marker = \\'x\\')\\nplt.show()\\n\\nplt.imshow(images[1], cmap=\"gray\")\\nfor match in match_I2:\\n    plt.plot(match[0], match[1], marker = \\'x\\')\\nplt.show()\\n\\nnew_image = (images[0] + image_2_transformed) / 2\\nplt.imshow(new_image, cmap=\"gray\")\\nplt.show()\\n'"
      ]
     },
     "execution_count": 7,
     "metadata": {},
     "output_type": "execute_result"
    }
   ],
   "source": [
    "'''plt.imshow(images[0], cmap=\"gray\")\n",
    "for match in match_I1:\n",
    "    plt.plot(match[0], match[1], marker = 'x')\n",
    "plt.show()\n",
    "\n",
    "plt.imshow(images[1], cmap=\"gray\")\n",
    "for match in match_I2:\n",
    "    plt.plot(match[0], match[1], marker = 'x')\n",
    "plt.show()\n",
    "\n",
    "new_image = (images[0] + image_2_transformed) / 2\n",
    "plt.imshow(new_image, cmap=\"gray\")\n",
    "plt.show()\n",
    "'''"
   ]
  }
 ],
 "metadata": {
  "kernelspec": {
   "display_name": "Python 3",
   "language": "python",
   "name": "python3"
  },
  "language_info": {
   "codemirror_mode": {
    "name": "ipython",
    "version": 3
   },
   "file_extension": ".py",
   "mimetype": "text/x-python",
   "name": "python",
   "nbconvert_exporter": "python",
   "pygments_lexer": "ipython3",
   "version": "3.7.2"
  }
 },
 "nbformat": 4,
 "nbformat_minor": 2
}
