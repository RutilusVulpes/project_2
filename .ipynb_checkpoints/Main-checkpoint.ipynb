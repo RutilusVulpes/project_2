{
 "cells": [
  {
   "cell_type": "code",
   "execution_count": 1,
   "metadata": {},
   "outputs": [],
   "source": [
    "import matplotlib.pyplot as plt\n",
    "import numpy as np\n",
    "import cornermatching as cm\n",
    "\n",
    "\n",
    "I1 = plt.imread('im1.jpg')\n",
    "I1 = I1.mean(axis=2)\n",
    "\n",
    "I2 = plt.imread('im2.jpg')\n",
    "I2 = I2.mean(axis=2)\n",
    "\n",
    "g_kernal = cm.gauss_kernal(3,2)\n",
    "\n",
    "I1 = cm.convolve(I1, g_kernal)\n",
    "I2 = cm.convolve(I2, g_kernal)"
   ]
  },
  {
   "cell_type": "code",
   "execution_count": 2,
   "metadata": {},
   "outputs": [],
   "source": [
    "import cornermatching as cm\n",
    "H1 = cm.harris_response(I1)\n",
    "H2 = cm.harris_response(I2)"
   ]
  },
  {
   "cell_type": "code",
   "execution_count": 3,
   "metadata": {},
   "outputs": [],
   "source": [
    "import cornermatching as cm\n",
    "H1sup = cm.nonmaxsup(H1)\n",
    "H2sup = cm.nonmaxsup(H2)"
   ]
  },
  {
   "cell_type": "code",
   "execution_count": 4,
   "metadata": {},
   "outputs": [],
   "source": [
    "import cornermatching as cm\n",
    "H1descrips = cm.descriptorExtractor(I1,H1sup)\n",
    "H2descrips = cm.descriptorExtractor(I2,H2sup)\n"
   ]
  },
  {
   "cell_type": "code",
   "execution_count": null,
   "metadata": {},
   "outputs": [],
   "source": [
    "import cornermatching as cm\n",
    "best_matches = cm.get_best_matches(H1descrips, H2descrips)"
   ]
  },
  {
   "cell_type": "code",
   "execution_count": null,
   "metadata": {},
   "outputs": [],
   "source": [
    "import cornermatching as cm\n",
    "secondbest_matches = cm.get_secondbest_matches(H1descrips, H2descrips, best_matches)"
   ]
  },
  {
   "cell_type": "code",
   "execution_count": null,
   "metadata": {},
   "outputs": [],
   "source": [
    "import cornermatching as cm\n",
    "filtered_matches = cm.filter_matches(best_matches, secondbest_matches)\n",
    "\n",
    "print(filtered_matches)\n",
    "h = int(len(I1))\n",
    "w = int(len(I1[0])*2)\n",
    "for match in filtered_matches:\n",
    "    x1 = match[0]\n",
    "    y1 = match[1]\n",
    "    x2 = match[2]\n",
    "    y2 = match[3]\n",
    "    #print(x1,y1,x2,y2)\n",
    "    \n",
    "    plt.plot([y1,y2+int(w/2)], [x1,x2], color=\"blue\", marker=\"x\")\n",
    "stacked =  np.column_stack((I1, I2)) \n",
    "plt.imshow(stacked, cmap=plt.cm.gray)\n",
    "plt.show()\n",
    "\n"
   ]
  },
  {
   "cell_type": "code",
   "execution_count": null,
   "metadata": {},
   "outputs": [],
   "source": [
    "import random\n",
    "\n",
    "def RANSAC(number_of_iterations,matches,n,r,d):\n",
    "\n",
    "    H_best = np.array([[1,0,0],[0,1,0],[0,0,1]])\n",
    "    list_of_inliers = []\n",
    "    \n",
    "    for i in range(number_of_iterations):\n",
    "  \n",
    "        # 1. Select a random sample of length n from the matches\n",
    "        np.random.shuffle(matches)\n",
    "        samples = np.array(matches[:n])\n",
    "        \n",
    "        # 2. Compute a homography based on these points using the methods given above\n",
    "\n",
    "        H = cm.findHomography(samples)\n",
    "\n",
    "        # 3. Apply this homography to the remaining points that were not randomly selected\n",
    "\n",
    "        image1 = []\n",
    "        image2 = []\n",
    "        for sample in samples:\n",
    "            obs = sample[0:2]\n",
    "            obs = np.append(obs,1)\n",
    "            image1.append(obs)\n",
    "\n",
    "            pred = sample[2:]\n",
    "            pred = np.append(pred,1)\n",
    "            image2.append(pred)\n",
    "            \n",
    "        image1 = np.asarray(image1)\n",
    "\n",
    "        image1 = (H @ image1.T).T\n",
    "\n",
    "        # 4. Compute the residual between observed and predicted feature locations\n",
    "        inliers = []\n",
    "        for i in range(len(image1)):\n",
    "            pred = image1[i]\n",
    "            obs = image2[i]\n",
    "\n",
    "            #scale\n",
    "            pred[0]= pred[0]/pred[2]\n",
    "            pred[1]=pred[1]/pred[2]\n",
    "            obs[0]= obs[0]/obs[2]\n",
    "            obs[1]=obs[1]/obs[2]\n",
    "            \n",
    "            #readability\n",
    "            u = pred[0]\n",
    "            v = pred[1]\n",
    "            uP = obs[0]\n",
    "            vP = obs[1]\n",
    "\n",
    "            #calc residual\n",
    "            resid = np.sqrt((u-uP)**2+(v-vP)**2)\n",
    "        # 5. Flag predictions that lie within a predefined distance r from observations as inliers\n",
    "            if(resid < r):\n",
    "                inliers.append([u,v,uP,vP])\n",
    "\n",
    "        # 6. If number of inliers is greater than the previous best\n",
    "        #    and greater than a minimum number of inliers d,\n",
    "        #    7. update H_best\n",
    "        #    8. update list_of_inliers\n",
    "\n",
    "            if(len(inliers) > len(list_of_inliers) and len(inliers) > d):\n",
    "                list_of_inliers = inliers.copy()\n",
    "                H_best = H\n",
    "\n",
    "\n",
    "    return H_best, list_of_inliers\n"
   ]
  },
  {
   "cell_type": "code",
   "execution_count": null,
   "metadata": {},
   "outputs": [],
   "source": [
    "import cornermatching as cm\n",
    "matches = filtered_matches.copy()\n",
    "H_best,inliers = RANSAC(1000,matches,10,3,2)\n",
    "\n",
    "print(H_best)\n",
    "\n"
   ]
  },
  {
   "cell_type": "code",
   "execution_count": null,
   "metadata": {},
   "outputs": [],
   "source": [
    "import skimage.transform as skt\n",
    "\n",
    "proj_trans = skt.ProjectiveTransform(H_best)\n",
    "\n",
    "image_2_transformed = skt.warp(I2,proj_trans)\n",
    "plt.imshow(image_2_transformed, cmap=plt.cm.gray)\n",
    "plt.show()\n",
    "\n",
    "stitched = np.column_stack((I1,image_2_transformed))\n",
    "\n",
    "plt.imshow(stitched, cmap=plt.cm.gray)\n",
    "plt.show()"
   ]
  },
  {
   "cell_type": "code",
   "execution_count": null,
   "metadata": {},
   "outputs": [],
   "source": []
  }
 ],
 "metadata": {
  "kernelspec": {
   "display_name": "Python 3",
   "language": "python",
   "name": "python3"
  },
  "language_info": {
   "codemirror_mode": {
    "name": "ipython",
    "version": 3
   },
   "file_extension": ".py",
   "mimetype": "text/x-python",
   "name": "python",
   "nbconvert_exporter": "python",
   "pygments_lexer": "ipython3",
   "version": "3.6.7"
  }
 },
 "nbformat": 4,
 "nbformat_minor": 2
}
